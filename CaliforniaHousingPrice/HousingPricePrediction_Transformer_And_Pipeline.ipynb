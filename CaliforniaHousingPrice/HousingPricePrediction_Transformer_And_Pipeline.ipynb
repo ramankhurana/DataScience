{
 "cells": [
  {
   "cell_type": "markdown",
   "id": "6fd743f0",
   "metadata": {},
   "source": [
    "### Housing price prediction \n",
    "This is second part of the California housing price prediction problem. In the first part I have explained how to perform end-to-end machine learning algorithm"
   ]
  }
 ],
 "metadata": {
  "kernelspec": {
   "display_name": "Python 3",
   "language": "python",
   "name": "python3"
  },
  "language_info": {
   "codemirror_mode": {
    "name": "ipython",
    "version": 3
   },
   "file_extension": ".py",
   "mimetype": "text/x-python",
   "name": "python",
   "nbconvert_exporter": "python",
   "pygments_lexer": "ipython3",
   "version": "3.8.8"
  }
 },
 "nbformat": 4,
 "nbformat_minor": 5
}
