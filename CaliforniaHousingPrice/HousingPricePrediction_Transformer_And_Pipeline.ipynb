{
 "cells": [
  {
   "cell_type": "markdown",
   "id": "61880ba2",
   "metadata": {},
   "source": [
    "### Housing price prediction \n",
    "This is second part of the California housing price prediction problem. In the first part I have explained how to perform end-to-end machine learning algorithm, and make prediction. \n",
    "\n",
    "This notebook is mainly about how to automate the preprocessing and test various models to find the best one for our case. \n"
   ]
  },
  {
   "cell_type": "markdown",
   "id": "78a77cd5",
   "metadata": {},
   "source": [
    "#### Transformer \n",
    "Let's encapsulate custom cleanup, feature engineering in a custom class which will do the job seamlessly with sklearn functionalities like pipeline etc. "
   ]
  }
 ],
 "metadata": {
  "kernelspec": {
   "display_name": "Python 3",
   "language": "python",
   "name": "python3"
  },
  "language_info": {
   "codemirror_mode": {
    "name": "ipython",
    "version": 3
   },
   "file_extension": ".py",
   "mimetype": "text/x-python",
   "name": "python",
   "nbconvert_exporter": "python",
   "pygments_lexer": "ipython3",
   "version": "3.8.8"
  }
 },
 "nbformat": 4,
 "nbformat_minor": 5
}
