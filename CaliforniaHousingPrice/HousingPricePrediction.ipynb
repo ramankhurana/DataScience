{
 "cells": [
  {
   "cell_type": "markdown",
   "id": "60f6dfe9",
   "metadata": {},
   "source": [
    "## This project aims to predict the California housing prediction \n",
    "This is one of the full end-to-end project I worked on, in my free time to build my profile as a Data Scientist. The project is part of the book \"Hands-on machine learning with sk-learn and tensorflow\" and give a lot of information in a concise form. I describr here my learning and finding from this interesting read as well as apply my years of experience from my academic data analysis. \n",
    "\n"
   ]
  },
  {
   "cell_type": "markdown",
   "id": "9a4bf93a",
   "metadata": {},
   "source": [
    "## Data Scientist Checklist \n",
    "For any given project one needs a checklist, a common checklist is following which keep changing based on the scope of problem, but the minimal version remains the same. \n",
    "\n",
    "1. Frame the problem and get a grasp of the big pictue. \n",
    "2. Get the data \n",
    "3. Exploratory data analysis and gain insights. \n",
    "4. Prepare data to extract the features hidden in the data, Feature enginnering. \n",
    "5. Short list (and explore them) the possible models which can be tried on the given model, based on the knowledge gain from insights. \n",
    "6. Finetune these models and combine into a reliable and the best solution. \n",
    "7. Presentation of the solution \n",
    "8. Launch, monitor and maintain the system, it will evolve with time as more data arrive. \n"
   ]
  },
  {
   "cell_type": "markdown",
   "id": "d1fb6bd0",
   "metadata": {},
   "source": [
    "### 1. Frame the problem \n",
    "As said, we have the housing dataset for California and we want to build the a model which can predict the price of house given other features of the dataset. So broadly, this is a supervised learning problem, where we will predict the price of the house, i.e. we need to use the regression algorithm. The dataset has many features like, loaction, age of house, rooms, population, income etc, all of these influence the price of house and hence this is  a multivariate regression problem to be solved. \n",
    "\n",
    "We are given that the existing solution do exist to predict the housing price, using some manual, time expensive and budget expensive and comes with an error of 15%. \n",
    "\n",
    "#### Performance metric \n",
    "##### 1. RMSE (Root Mean Square Error) \n",
    "\n",
    "One of the most commonly used metric for regression problem is RMSE (Root Mean Square Error). \n",
    "\n",
    "$ RMSE  = \\sqrt (\\frac{1}{m} \\sum_{i=1}^{m} (h(x^{i}) - y^{i})^{2} ) $\n",
    "\n",
    "where, \n",
    "- m: number of instance/row on which performance (RMSE) is measured\n",
    "- $x^{i}$: Vector of all the input feature values (EXCLUDING OUTPUT) of $i^{th}$ instance in the data, and $y^{i}$ is the label of this vactor, or true value of the feature to be predicted, housing price in this case. \n",
    "- $h(x^{i})$: Predicted value given the input features $x^{i}$\n",
    "\n",
    "[RMSE using sklearn](https://scikit-learn.org/stable/modules/model_evaluation.html#mean-squared-error)  \n",
    "\n",
    "##### 2. MAE (Mean Average Error) \n",
    "MAE is another metric used for the regression problems, specially when there are known outliers in the dataset. \n",
    "In such cases it is better to average out the errors using MAE: \n",
    "\n",
    "$MAE = \\frac{1}{m} \\sum_{i=1}^{m} |(h(x^{i}) - y^{i} |$\n",
    "\n",
    "[MAE using sklearn](https://scikit-learn.org/stable/modules/model_evaluation.html#mean-absolute-error)\n",
    "\n",
    "##### 3. $R^{2} score$\n",
    "Another important metric for regression exercise is $R^{2}$ score, also called coefficient of determination. It represents the proportion of variance (of y) that has been explained by the independent variables in the model. \n",
    "It provides an indication of goodness of fit and therefore a measure of how well unseen samples are likely to be predicted by the model, through the proportion of explained variance. \n",
    "\n",
    "$R^{2} score (h(x^{i}),  y^{i} )$ = 1 - $\\frac{\\sum_{i=1}^{m} y^{i} - h(x^{i})}{ \\sum_{i=1}^{m}y^{i}-\\bar{y}}$\n",
    "where $\\bar{y}$ is the mean of true values of y OR $h(x^{i})$. \n",
    "\n",
    "[$R^2 score$ in sklean](https://scikit-learn.org/stable/modules/model_evaluation.html#r2-score-the-coefficient-of-determination)\n",
    "\n",
    "So depending on the type of problem one should choose the metric appropriately. "
   ]
  },
  {
   "cell_type": "markdown",
   "id": "43832b3a",
   "metadata": {},
   "source": [
    "### 2. Get the data \n",
    "\n",
    "The original dataset mentioned in the book is from *StatLib repository*. \n",
    "\n",
    "A similar dataset is freely available at the [Kaggle dataset](https://www.kaggle.com/camnugent/california-housing-prices) repository and has been used for this modelling. \n",
    "\n"
   ]
  },
  {
   "cell_type": "markdown",
   "id": "d4b1ca15",
   "metadata": {},
   "source": [
    "#### Import libraries "
   ]
  },
  {
   "cell_type": "code",
   "execution_count": 2,
   "id": "abf42741",
   "metadata": {},
   "outputs": [],
   "source": [
    "import pandas as pd \n",
    "import seaborn as sns \n",
    "import matplotlib.pyplot as plt \n",
    "import numpy as np \n",
    "import sklearn \n"
   ]
  },
  {
   "cell_type": "markdown",
   "id": "a9209a55",
   "metadata": {},
   "source": [
    "#### Load the dataset "
   ]
  },
  {
   "cell_type": "code",
   "execution_count": 3,
   "id": "d6e72f8c",
   "metadata": {},
   "outputs": [
    {
     "data": {
      "text/html": [
       "<div>\n",
       "<style scoped>\n",
       "    .dataframe tbody tr th:only-of-type {\n",
       "        vertical-align: middle;\n",
       "    }\n",
       "\n",
       "    .dataframe tbody tr th {\n",
       "        vertical-align: top;\n",
       "    }\n",
       "\n",
       "    .dataframe thead th {\n",
       "        text-align: right;\n",
       "    }\n",
       "</style>\n",
       "<table border=\"1\" class=\"dataframe\">\n",
       "  <thead>\n",
       "    <tr style=\"text-align: right;\">\n",
       "      <th></th>\n",
       "      <th>longitude</th>\n",
       "      <th>latitude</th>\n",
       "      <th>housing_median_age</th>\n",
       "      <th>total_rooms</th>\n",
       "      <th>total_bedrooms</th>\n",
       "      <th>population</th>\n",
       "      <th>households</th>\n",
       "      <th>median_income</th>\n",
       "      <th>median_house_value</th>\n",
       "      <th>ocean_proximity</th>\n",
       "    </tr>\n",
       "  </thead>\n",
       "  <tbody>\n",
       "    <tr>\n",
       "      <th>0</th>\n",
       "      <td>-122.23</td>\n",
       "      <td>37.88</td>\n",
       "      <td>41.0</td>\n",
       "      <td>880.0</td>\n",
       "      <td>129.0</td>\n",
       "      <td>322.0</td>\n",
       "      <td>126.0</td>\n",
       "      <td>8.3252</td>\n",
       "      <td>452600.0</td>\n",
       "      <td>NEAR BAY</td>\n",
       "    </tr>\n",
       "    <tr>\n",
       "      <th>1</th>\n",
       "      <td>-122.22</td>\n",
       "      <td>37.86</td>\n",
       "      <td>21.0</td>\n",
       "      <td>7099.0</td>\n",
       "      <td>1106.0</td>\n",
       "      <td>2401.0</td>\n",
       "      <td>1138.0</td>\n",
       "      <td>8.3014</td>\n",
       "      <td>358500.0</td>\n",
       "      <td>NEAR BAY</td>\n",
       "    </tr>\n",
       "    <tr>\n",
       "      <th>2</th>\n",
       "      <td>-122.24</td>\n",
       "      <td>37.85</td>\n",
       "      <td>52.0</td>\n",
       "      <td>1467.0</td>\n",
       "      <td>190.0</td>\n",
       "      <td>496.0</td>\n",
       "      <td>177.0</td>\n",
       "      <td>7.2574</td>\n",
       "      <td>352100.0</td>\n",
       "      <td>NEAR BAY</td>\n",
       "    </tr>\n",
       "    <tr>\n",
       "      <th>3</th>\n",
       "      <td>-122.25</td>\n",
       "      <td>37.85</td>\n",
       "      <td>52.0</td>\n",
       "      <td>1274.0</td>\n",
       "      <td>235.0</td>\n",
       "      <td>558.0</td>\n",
       "      <td>219.0</td>\n",
       "      <td>5.6431</td>\n",
       "      <td>341300.0</td>\n",
       "      <td>NEAR BAY</td>\n",
       "    </tr>\n",
       "    <tr>\n",
       "      <th>4</th>\n",
       "      <td>-122.25</td>\n",
       "      <td>37.85</td>\n",
       "      <td>52.0</td>\n",
       "      <td>1627.0</td>\n",
       "      <td>280.0</td>\n",
       "      <td>565.0</td>\n",
       "      <td>259.0</td>\n",
       "      <td>3.8462</td>\n",
       "      <td>342200.0</td>\n",
       "      <td>NEAR BAY</td>\n",
       "    </tr>\n",
       "  </tbody>\n",
       "</table>\n",
       "</div>"
      ],
      "text/plain": [
       "   longitude  latitude  housing_median_age  total_rooms  total_bedrooms  \\\n",
       "0    -122.23     37.88                41.0        880.0           129.0   \n",
       "1    -122.22     37.86                21.0       7099.0          1106.0   \n",
       "2    -122.24     37.85                52.0       1467.0           190.0   \n",
       "3    -122.25     37.85                52.0       1274.0           235.0   \n",
       "4    -122.25     37.85                52.0       1627.0           280.0   \n",
       "\n",
       "   population  households  median_income  median_house_value ocean_proximity  \n",
       "0       322.0       126.0         8.3252            452600.0        NEAR BAY  \n",
       "1      2401.0      1138.0         8.3014            358500.0        NEAR BAY  \n",
       "2       496.0       177.0         7.2574            352100.0        NEAR BAY  \n",
       "3       558.0       219.0         5.6431            341300.0        NEAR BAY  \n",
       "4       565.0       259.0         3.8462            342200.0        NEAR BAY  "
      ]
     },
     "execution_count": 3,
     "metadata": {},
     "output_type": "execute_result"
    }
   ],
   "source": [
    "df = pd.read_csv(\"housing.csv\")\n",
    "df.head()"
   ]
  },
  {
   "cell_type": "markdown",
   "id": "4196200d",
   "metadata": {},
   "source": [
    "#### Features \n",
    "There are 10 columns in the data, namely, \n",
    "\n",
    "1. longitude: A measure of how far west a house is; a higher value is farther west\n",
    "\n",
    "2. latitude: A measure of how far north a house is; a higher value is farther north\n",
    "\n",
    "3. housingMedianAge: Median age of a house within a block; a lower number is a newer building\n",
    "\n",
    "4. totalRooms: Total number of rooms within a block\n",
    "\n",
    "5. totalBedrooms: Total number of bedrooms within a block\n",
    "\n",
    "6. population: Total number of people residing within a block\n",
    "\n",
    "7. households: Total number of households, a group of people residing within a home unit, for a block\n",
    "\n",
    "8. medianIncome: Median income for households within a block of houses (measured in tens of thousands of US Dollars)\n",
    "\n",
    "9. medianHouseValue: Median house value for households within a block (measured in US Dollars)\n",
    "\n",
    "10. oceanProximity: Location of the house w.r.t ocean/sea\n",
    "\n",
    "\n"
   ]
  },
  {
   "cell_type": "markdown",
   "id": "194c2aa3",
   "metadata": {},
   "source": [
    "### 3. Exploratory data analysis and insights gain"
   ]
  },
  {
   "cell_type": "code",
   "execution_count": 4,
   "id": "74a7cd97",
   "metadata": {},
   "outputs": [
    {
     "name": "stdout",
     "output_type": "stream",
     "text": [
      "<class 'pandas.core.frame.DataFrame'>\n",
      "RangeIndex: 20640 entries, 0 to 20639\n",
      "Data columns (total 10 columns):\n",
      " #   Column              Non-Null Count  Dtype  \n",
      "---  ------              --------------  -----  \n",
      " 0   longitude           20640 non-null  float64\n",
      " 1   latitude            20640 non-null  float64\n",
      " 2   housing_median_age  20640 non-null  float64\n",
      " 3   total_rooms         20640 non-null  float64\n",
      " 4   total_bedrooms      20433 non-null  float64\n",
      " 5   population          20640 non-null  float64\n",
      " 6   households          20640 non-null  float64\n",
      " 7   median_income       20640 non-null  float64\n",
      " 8   median_house_value  20640 non-null  float64\n",
      " 9   ocean_proximity     20640 non-null  object \n",
      "dtypes: float64(9), object(1)\n",
      "memory usage: 1.6+ MB\n"
     ]
    }
   ],
   "source": [
    "df.info() ## provides the information of the datatype of each column in the dataframe. "
   ]
  },
  {
   "cell_type": "markdown",
   "id": "6f5dbb5a",
   "metadata": {},
   "source": [
    "The above information shows that there are some missing information in the total_bedrooms column, and there it has to be taken care of before feeding this data to any machine learning algorithm. It can be treated via: \n",
    "1. By remove those 207 enteries as this is an important feature to predict the price of the house,\n",
    "2. however it can be coorelated with total_rooms which is available, hence the value can be kepts as median of the house with same number of total_rooms. \n",
    "Let's deal with this a bit later in the notebook. "
   ]
  },
  {
   "cell_type": "code",
   "execution_count": null,
   "id": "c19f9544",
   "metadata": {},
   "outputs": [],
   "source": []
  }
 ],
 "metadata": {
  "kernelspec": {
   "display_name": "Python 3",
   "language": "python",
   "name": "python3"
  },
  "language_info": {
   "codemirror_mode": {
    "name": "ipython",
    "version": 3
   },
   "file_extension": ".py",
   "mimetype": "text/x-python",
   "name": "python",
   "nbconvert_exporter": "python",
   "pygments_lexer": "ipython3",
   "version": "3.8.8"
  }
 },
 "nbformat": 4,
 "nbformat_minor": 5
}
