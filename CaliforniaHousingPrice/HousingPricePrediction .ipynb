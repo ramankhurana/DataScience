{
 "cells": [
  {
   "cell_type": "markdown",
   "id": "60f6dfe9",
   "metadata": {},
   "source": [
    "## This project aims to predict the California housing prediction \n",
    "This is one of the full end-to-end project I worked on, in my free time to build my profile as a Data Scientist. The project is part of the book \"Hands-on machine learning with sk-learn and tensorflow\" and give a lot of information in a concise form. I describr here my learning and finding from this interesting read as well as apply my years of experience from my academic data analysis. \n",
    "\n"
   ]
  },
  {
   "cell_type": "markdown",
   "id": "9a4bf93a",
   "metadata": {},
   "source": [
    "## Data Scientist Checklist \n",
    "For any given project one needs a checklist, a common checklist is following which keep changing based on the scope of problem, but the minimal version remains the same. \n",
    "\n",
    "1. Frame the problem and get a grasp of the big pictue. \n",
    "2. Get the data \n",
    "3. Exploratory data analysis and gain insights. \n",
    "4. Prepare data to extract the features hidden in the data, Feature enginnering. \n",
    "5. Short list (and explore them) the possible models which can be tried on the given model, based on the knowledge gain from insights. \n",
    "6. Finetune these models and combine into a reliable and the best solution. \n",
    "7. Presentation of the solution \n",
    "8. Launch, monitor and maintain the system, it will evolve with time as more data arrive. \n"
   ]
  },
  {
   "cell_type": "markdown",
   "id": "d1fb6bd0",
   "metadata": {},
   "source": [
    "### 1. Frame the problem \n",
    "As said, we have the housing dataset for California and we want to build the a model which can predict the price of house given other features of the dataset. So broadly, this is a supervised learning problem, where we will predict the price of the house, i.e. we need to use the regression algorithm. The dataset has many features like, loaction, age of house, rooms, population, income etc, all of these influence the price of house and hence this is  a multivariate regression problem to be solved. \n",
    "\n",
    "We are given that the existing solution do exist to predict the housing price, using some manual, time expensive and budget expensive and comes with an error of 15%. \n"
   ]
  },
  {
   "cell_type": "markdown",
   "id": "43832b3a",
   "metadata": {},
   "source": [
    "### 2. Get the data \n",
    "\n",
    "The original dataset mentioned in the book is from *StatLib repository*. \n",
    "\n",
    "A similar dataset is freely available at the [Kaggle dataset](https://www.kaggle.com/camnugent/california-housing-prices) repository and has been used for this modelling. \n",
    "\n"
   ]
  },
  {
   "cell_type": "markdown",
   "id": "d4b1ca15",
   "metadata": {},
   "source": [
    "#### Import libraries "
   ]
  },
  {
   "cell_type": "code",
   "execution_count": 1,
   "id": "abf42741",
   "metadata": {},
   "outputs": [],
   "source": [
    "import pandas as pd \n",
    "import seaborn as sns \n",
    "import matplotlib.pyplot as plt \n",
    "import numpy as np \n",
    "import sklearn \n"
   ]
  },
  {
   "cell_type": "markdown",
   "id": "a9209a55",
   "metadata": {},
   "source": [
    "#### Load the dataset "
   ]
  },
  {
   "cell_type": "code",
   "execution_count": 5,
   "id": "d6e72f8c",
   "metadata": {},
   "outputs": [
    {
     "data": {
      "text/html": [
       "<div>\n",
       "<style scoped>\n",
       "    .dataframe tbody tr th:only-of-type {\n",
       "        vertical-align: middle;\n",
       "    }\n",
       "\n",
       "    .dataframe tbody tr th {\n",
       "        vertical-align: top;\n",
       "    }\n",
       "\n",
       "    .dataframe thead th {\n",
       "        text-align: right;\n",
       "    }\n",
       "</style>\n",
       "<table border=\"1\" class=\"dataframe\">\n",
       "  <thead>\n",
       "    <tr style=\"text-align: right;\">\n",
       "      <th></th>\n",
       "      <th>longitude</th>\n",
       "      <th>latitude</th>\n",
       "      <th>housing_median_age</th>\n",
       "      <th>total_rooms</th>\n",
       "      <th>total_bedrooms</th>\n",
       "      <th>population</th>\n",
       "      <th>households</th>\n",
       "      <th>median_income</th>\n",
       "      <th>median_house_value</th>\n",
       "      <th>ocean_proximity</th>\n",
       "    </tr>\n",
       "  </thead>\n",
       "  <tbody>\n",
       "    <tr>\n",
       "      <th>0</th>\n",
       "      <td>-122.23</td>\n",
       "      <td>37.88</td>\n",
       "      <td>41.0</td>\n",
       "      <td>880.0</td>\n",
       "      <td>129.0</td>\n",
       "      <td>322.0</td>\n",
       "      <td>126.0</td>\n",
       "      <td>8.3252</td>\n",
       "      <td>452600.0</td>\n",
       "      <td>NEAR BAY</td>\n",
       "    </tr>\n",
       "    <tr>\n",
       "      <th>1</th>\n",
       "      <td>-122.22</td>\n",
       "      <td>37.86</td>\n",
       "      <td>21.0</td>\n",
       "      <td>7099.0</td>\n",
       "      <td>1106.0</td>\n",
       "      <td>2401.0</td>\n",
       "      <td>1138.0</td>\n",
       "      <td>8.3014</td>\n",
       "      <td>358500.0</td>\n",
       "      <td>NEAR BAY</td>\n",
       "    </tr>\n",
       "    <tr>\n",
       "      <th>2</th>\n",
       "      <td>-122.24</td>\n",
       "      <td>37.85</td>\n",
       "      <td>52.0</td>\n",
       "      <td>1467.0</td>\n",
       "      <td>190.0</td>\n",
       "      <td>496.0</td>\n",
       "      <td>177.0</td>\n",
       "      <td>7.2574</td>\n",
       "      <td>352100.0</td>\n",
       "      <td>NEAR BAY</td>\n",
       "    </tr>\n",
       "    <tr>\n",
       "      <th>3</th>\n",
       "      <td>-122.25</td>\n",
       "      <td>37.85</td>\n",
       "      <td>52.0</td>\n",
       "      <td>1274.0</td>\n",
       "      <td>235.0</td>\n",
       "      <td>558.0</td>\n",
       "      <td>219.0</td>\n",
       "      <td>5.6431</td>\n",
       "      <td>341300.0</td>\n",
       "      <td>NEAR BAY</td>\n",
       "    </tr>\n",
       "    <tr>\n",
       "      <th>4</th>\n",
       "      <td>-122.25</td>\n",
       "      <td>37.85</td>\n",
       "      <td>52.0</td>\n",
       "      <td>1627.0</td>\n",
       "      <td>280.0</td>\n",
       "      <td>565.0</td>\n",
       "      <td>259.0</td>\n",
       "      <td>3.8462</td>\n",
       "      <td>342200.0</td>\n",
       "      <td>NEAR BAY</td>\n",
       "    </tr>\n",
       "  </tbody>\n",
       "</table>\n",
       "</div>"
      ],
      "text/plain": [
       "   longitude  latitude  housing_median_age  total_rooms  total_bedrooms  \\\n",
       "0    -122.23     37.88                41.0        880.0           129.0   \n",
       "1    -122.22     37.86                21.0       7099.0          1106.0   \n",
       "2    -122.24     37.85                52.0       1467.0           190.0   \n",
       "3    -122.25     37.85                52.0       1274.0           235.0   \n",
       "4    -122.25     37.85                52.0       1627.0           280.0   \n",
       "\n",
       "   population  households  median_income  median_house_value ocean_proximity  \n",
       "0       322.0       126.0         8.3252            452600.0        NEAR BAY  \n",
       "1      2401.0      1138.0         8.3014            358500.0        NEAR BAY  \n",
       "2       496.0       177.0         7.2574            352100.0        NEAR BAY  \n",
       "3       558.0       219.0         5.6431            341300.0        NEAR BAY  \n",
       "4       565.0       259.0         3.8462            342200.0        NEAR BAY  "
      ]
     },
     "execution_count": 5,
     "metadata": {},
     "output_type": "execute_result"
    }
   ],
   "source": [
    "df = pd.read_csv(\"housing.csv\")\n",
    "df.head()"
   ]
  },
  {
   "cell_type": "markdown",
   "id": "4196200d",
   "metadata": {},
   "source": [
    "#### Features \n",
    "There are 10 columns in the data, namely, \n",
    "\n",
    "1. longitude: A measure of how far west a house is; a higher value is farther west\n",
    "\n",
    "2. latitude: A measure of how far north a house is; a higher value is farther north\n",
    "\n",
    "3. housingMedianAge: Median age of a house within a block; a lower number is a newer building\n",
    "\n",
    "4. totalRooms: Total number of rooms within a block\n",
    "\n",
    "5. totalBedrooms: Total number of bedrooms within a block\n",
    "\n",
    "6. population: Total number of people residing within a block\n",
    "\n",
    "7. households: Total number of households, a group of people residing within a home unit, for a block\n",
    "\n",
    "8. medianIncome: Median income for households within a block of houses (measured in tens of thousands of US Dollars)\n",
    "\n",
    "9. medianHouseValue: Median house value for households within a block (measured in US Dollars)\n",
    "\n",
    "10. oceanProximity: Location of the house w.r.t ocean/sea\n",
    "\n",
    "\n"
   ]
  },
  {
   "cell_type": "markdown",
   "id": "194c2aa3",
   "metadata": {},
   "source": [
    "### 3. Exploratory data analysis and insights gain"
   ]
  },
  {
   "cell_type": "code",
   "execution_count": null,
   "id": "74a7cd97",
   "metadata": {},
   "outputs": [],
   "source": []
  }
 ],
 "metadata": {
  "kernelspec": {
   "display_name": "Python 3",
   "language": "python",
   "name": "python3"
  },
  "language_info": {
   "codemirror_mode": {
    "name": "ipython",
    "version": 3
   },
   "file_extension": ".py",
   "mimetype": "text/x-python",
   "name": "python",
   "nbconvert_exporter": "python",
   "pygments_lexer": "ipython3",
   "version": "3.8.8"
  }
 },
 "nbformat": 4,
 "nbformat_minor": 5
}
