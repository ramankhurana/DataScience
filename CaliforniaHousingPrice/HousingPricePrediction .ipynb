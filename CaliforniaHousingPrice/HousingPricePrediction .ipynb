{
 "cells": [
  {
   "cell_type": "markdown",
   "id": "d32a3dc6",
   "metadata": {},
   "source": [
    "## This project aims to predict the California housing prediction \n",
    "This is one of the full end-to-end project I worked on, in my free time to build my profile as a Data Scientist. The project is part of the book \"Hands-on machine learning with sk-learn and tensorflow\" and give a lot of information in a concise form. I describr here my learning and finding from this interesting read as well as apply my years of experience from my academic data analysis. \n",
    "\n"
   ]
  },
  {
   "cell_type": "markdown",
   "id": "f619bfdc",
   "metadata": {},
   "source": [
    "## Data Scientist Checklist \n",
    "For any given project one needs a checklist, a common checklist is following which keep changing based on the scope of problem, but the minimal version remains the same. \n",
    "\n",
    "1. Frame the problem and get a grasp of the big pictue. \n",
    "2. Get the data \n",
    "3. Exploratory data analysis and gain insights. \n",
    "4. Prepare data to extract the features hidden in the data, Feature enginnering. \n",
    "5. Short list (and explore them) the possible models which can be tried on the given model, based on the knowledge gain from insights. \n",
    "6. Finetune these models and combine into a reliable and the best solution. \n",
    "7. Presentation of the solution \n",
    "8. Launch, monitor and maintain the system, it will evolve with time as more data arrive. \n"
   ]
  },
  {
   "cell_type": "code",
   "execution_count": null,
   "id": "f35a37f1",
   "metadata": {},
   "outputs": [],
   "source": []
  },
  {
   "cell_type": "markdown",
   "id": "b0fd943f",
   "metadata": {},
   "source": [
    "There are 10 columns in the data, namely, \n",
    "\n",
    "1. longitude: A measure of how far west a house is; a higher value is farther west\n",
    "\n",
    "2. latitude: A measure of how far north a house is; a higher value is farther north\n",
    "\n",
    "3. housingMedianAge: Median age of a house within a block; a lower number is a newer building\n",
    "\n",
    "4. totalRooms: Total number of rooms within a block\n",
    "\n",
    "5. totalBedrooms: Total number of bedrooms within a block\n",
    "\n",
    "6. population: Total number of people residing within a block\n",
    "\n",
    "7. households: Total number of households, a group of people residing within a home unit, for a block\n",
    "\n",
    "8. medianIncome: Median income for households within a block of houses (measured in tens of thousands of US Dollars)\n",
    "\n",
    "9. medianHouseValue: Median house value for households within a block (measured in US Dollars)\n",
    "\n",
    "10. oceanProximity: Location of the house w.r.t ocean/sea\n",
    "\n"
   ]
  },
  {
   "cell_type": "code",
   "execution_count": null,
   "id": "bf559bcd",
   "metadata": {},
   "outputs": [],
   "source": []
  }
 ],
 "metadata": {
  "kernelspec": {
   "display_name": "Python 3",
   "language": "python",
   "name": "python3"
  },
  "language_info": {
   "codemirror_mode": {
    "name": "ipython",
    "version": 3
   },
   "file_extension": ".py",
   "mimetype": "text/x-python",
   "name": "python",
   "nbconvert_exporter": "python",
   "pygments_lexer": "ipython3",
   "version": "3.8.8"
  }
 },
 "nbformat": 4,
 "nbformat_minor": 5
}
