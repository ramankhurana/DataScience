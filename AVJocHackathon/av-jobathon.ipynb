{
 "cells": [
  {
   "cell_type": "code",
   "execution_count": 87,
   "metadata": {
    "_cell_guid": "b1076dfc-b9ad-4769-8c92-a6c4dae69d19",
    "_uuid": "8f2839f25d086af736a60e9eeb907d3b93b6e0e5",
    "execution": {
     "iopub.execute_input": "2022-02-13T17:12:25.244090Z",
     "iopub.status.busy": "2022-02-13T17:12:25.243782Z",
     "iopub.status.idle": "2022-02-13T17:12:25.387437Z",
     "shell.execute_reply": "2022-02-13T17:12:25.386447Z",
     "shell.execute_reply.started": "2022-02-13T17:12:25.244057Z"
    }
   },
   "outputs": [],
   "source": [
    "import numpy as np # linear algebra\n",
    "import pandas as pd # data processing, CSV file I/O (e.g. pd.read_csv)\n",
    "\n",
    "df_train = pd.read_csv(\"../input/avjobathon/train_0OECtn8.csv\")\n",
    "df_test = pd.read_csv(\"../input/avjobathon/test_1zqHu22.csv\")\n",
    "\n"
   ]
  },
  {
   "cell_type": "markdown",
   "metadata": {},
   "source": []
  },
  {
   "cell_type": "code",
   "execution_count": 88,
   "metadata": {
    "execution": {
     "iopub.execute_input": "2022-02-13T17:12:25.391659Z",
     "iopub.status.busy": "2022-02-13T17:12:25.391388Z",
     "iopub.status.idle": "2022-02-13T17:12:25.396960Z",
     "shell.execute_reply": "2022-02-13T17:12:25.395930Z",
     "shell.execute_reply.started": "2022-02-13T17:12:25.391627Z"
    }
   },
   "outputs": [],
   "source": [
    "def cleanDataFrame(df):\n",
    "    df = df[df.notnull()]\n",
    "    df = df[~(df.duplicated())]\n",
    "    return df "
   ]
  },
  {
   "cell_type": "code",
   "execution_count": 89,
   "metadata": {
    "execution": {
     "iopub.execute_input": "2022-02-13T17:12:25.399252Z",
     "iopub.status.busy": "2022-02-13T17:12:25.398479Z",
     "iopub.status.idle": "2022-02-13T17:12:25.509255Z",
     "shell.execute_reply": "2022-02-13T17:12:25.508260Z",
     "shell.execute_reply.started": "2022-02-13T17:12:25.399202Z"
    }
   },
   "outputs": [],
   "source": [
    "df_train = cleanDataFrame(df_train)\n",
    "df_test = cleanDataFrame(df_test)\n",
    "\n",
    "df_train.shape, df_test.shape"
   ]
  },
  {
   "cell_type": "code",
   "execution_count": null,
   "metadata": {},
   "outputs": [],
   "source": []
  },
  {
   "cell_type": "code",
   "execution_count": null,
   "metadata": {},
   "outputs": [],
   "source": []
  },
  {
   "cell_type": "code",
   "execution_count": 90,
   "metadata": {
    "execution": {
     "iopub.execute_input": "2022-02-13T17:12:25.512442Z",
     "iopub.status.busy": "2022-02-13T17:12:25.512088Z",
     "iopub.status.idle": "2022-02-13T17:12:26.232409Z",
     "shell.execute_reply": "2022-02-13T17:12:26.231445Z",
     "shell.execute_reply.started": "2022-02-13T17:12:25.512395Z"
    }
   },
   "outputs": [],
   "source": [
    "import seaborn as sns \n",
    "plot_  = sns.histplot(df_train.user_id)\n",
    "plot_.set_yscale(\"log\")\n",
    "## there are a few entries which have same user_id, i.e. some users have >1 videos. "
   ]
  },
  {
   "cell_type": "markdown",
   "metadata": {},
   "source": [
    "* Duplicate check"
   ]
  },
  {
   "cell_type": "code",
   "execution_count": 91,
   "metadata": {
    "execution": {
     "iopub.execute_input": "2022-02-13T17:12:26.234297Z",
     "iopub.status.busy": "2022-02-13T17:12:26.233951Z",
     "iopub.status.idle": "2022-02-13T17:12:26.242183Z",
     "shell.execute_reply": "2022-02-13T17:12:26.240935Z",
     "shell.execute_reply.started": "2022-02-13T17:12:26.234248Z"
    }
   },
   "outputs": [],
   "source": [
    "np.sort(df_train.category_id.unique())"
   ]
  },
  {
   "cell_type": "code",
   "execution_count": 92,
   "metadata": {
    "execution": {
     "iopub.execute_input": "2022-02-13T17:12:26.243891Z",
     "iopub.status.busy": "2022-02-13T17:12:26.243591Z",
     "iopub.status.idle": "2022-02-13T17:12:26.256770Z",
     "shell.execute_reply": "2022-02-13T17:12:26.255730Z",
     "shell.execute_reply.started": "2022-02-13T17:12:26.243844Z"
    }
   },
   "outputs": [],
   "source": [
    "np.sort(df_train.video_id.unique())"
   ]
  },
  {
   "cell_type": "code",
   "execution_count": 93,
   "metadata": {
    "execution": {
     "iopub.execute_input": "2022-02-13T17:12:26.259161Z",
     "iopub.status.busy": "2022-02-13T17:12:26.258604Z",
     "iopub.status.idle": "2022-02-13T17:12:26.413788Z",
     "shell.execute_reply": "2022-02-13T17:12:26.412817Z",
     "shell.execute_reply.started": "2022-02-13T17:12:26.259112Z"
    }
   },
   "outputs": [],
   "source": [
    "sns.boxplot(df_train.age)"
   ]
  },
  {
   "cell_type": "code",
   "execution_count": 94,
   "metadata": {
    "execution": {
     "iopub.execute_input": "2022-02-13T17:12:26.416216Z",
     "iopub.status.busy": "2022-02-13T17:12:26.415688Z",
     "iopub.status.idle": "2022-02-13T17:12:26.913680Z",
     "shell.execute_reply": "2022-02-13T17:12:26.912451Z",
     "shell.execute_reply.started": "2022-02-13T17:12:26.416167Z"
    }
   },
   "outputs": [],
   "source": [
    "sns.histplot(df_train.age)\n"
   ]
  },
  {
   "cell_type": "code",
   "execution_count": 95,
   "metadata": {
    "execution": {
     "iopub.execute_input": "2022-02-13T17:12:26.915931Z",
     "iopub.status.busy": "2022-02-13T17:12:26.915579Z",
     "iopub.status.idle": "2022-02-13T17:12:26.935009Z",
     "shell.execute_reply": "2022-02-13T17:12:26.933931Z",
     "shell.execute_reply.started": "2022-02-13T17:12:26.915884Z"
    }
   },
   "outputs": [],
   "source": [
    "df_train.gender.value_counts()"
   ]
  },
  {
   "cell_type": "code",
   "execution_count": 96,
   "metadata": {
    "execution": {
     "iopub.execute_input": "2022-02-13T17:12:26.939833Z",
     "iopub.status.busy": "2022-02-13T17:12:26.939295Z",
     "iopub.status.idle": "2022-02-13T17:12:27.272441Z",
     "shell.execute_reply": "2022-02-13T17:12:27.271446Z",
     "shell.execute_reply.started": "2022-02-13T17:12:26.939798Z"
    }
   },
   "outputs": [],
   "source": [
    "sns.histplot(df_train.profession)"
   ]
  },
  {
   "cell_type": "code",
   "execution_count": 97,
   "metadata": {
    "execution": {
     "iopub.execute_input": "2022-02-13T17:12:27.274553Z",
     "iopub.status.busy": "2022-02-13T17:12:27.274022Z",
     "iopub.status.idle": "2022-02-13T17:12:27.282138Z",
     "shell.execute_reply": "2022-02-13T17:12:27.281009Z",
     "shell.execute_reply.started": "2022-02-13T17:12:27.274481Z"
    }
   },
   "outputs": [],
   "source": [
    "df_train.followers.unique()"
   ]
  },
  {
   "cell_type": "code",
   "execution_count": 98,
   "metadata": {
    "execution": {
     "iopub.execute_input": "2022-02-13T17:12:27.285198Z",
     "iopub.status.busy": "2022-02-13T17:12:27.284396Z",
     "iopub.status.idle": "2022-02-13T17:12:27.295575Z",
     "shell.execute_reply": "2022-02-13T17:12:27.294714Z",
     "shell.execute_reply.started": "2022-02-13T17:12:27.285149Z"
    }
   },
   "outputs": [],
   "source": [
    "df_train.views.unique()"
   ]
  },
  {
   "cell_type": "code",
   "execution_count": 99,
   "metadata": {
    "execution": {
     "iopub.execute_input": "2022-02-13T17:12:27.297500Z",
     "iopub.status.busy": "2022-02-13T17:12:27.297047Z",
     "iopub.status.idle": "2022-02-13T17:12:27.301571Z",
     "shell.execute_reply": "2022-02-13T17:12:27.300878Z",
     "shell.execute_reply.started": "2022-02-13T17:12:27.297467Z"
    }
   },
   "outputs": [],
   "source": [
    "#g = sns.PairGrid(df_train)\n",
    "#g.map_diag(sns.histplot)\n",
    "#g.map_offdiag(sns.scatterplot)\n"
   ]
  },
  {
   "cell_type": "markdown",
   "metadata": {},
   "source": [
    "## Some conclusions from dataset \n",
    "1. Gender and profession needs to be converted from categorical feature to a numerical one. \n",
    "2. Two main features, followers and views have very less unique values, i.e. the data is not a realastic case, a poorly fabricated. \n",
    "3. 50% of the population are b/w 18-32 years old, however there are some outliers too. \n",
    "4. ~50% of the users are students. \n",
    "5. Video_id has very few unique values. "
   ]
  },
  {
   "cell_type": "code",
   "execution_count": null,
   "metadata": {},
   "outputs": [],
   "source": []
  },
  {
   "cell_type": "markdown",
   "metadata": {},
   "source": [
    "## Model "
   ]
  },
  {
   "cell_type": "code",
   "execution_count": 100,
   "metadata": {
    "execution": {
     "iopub.execute_input": "2022-02-13T17:12:27.303732Z",
     "iopub.status.busy": "2022-02-13T17:12:27.303216Z",
     "iopub.status.idle": "2022-02-13T17:12:27.315951Z",
     "shell.execute_reply": "2022-02-13T17:12:27.314907Z",
     "shell.execute_reply.started": "2022-02-13T17:12:27.303653Z"
    }
   },
   "outputs": [],
   "source": [
    "def featureEng(df):\n",
    "    df = pd.concat([df,pd.get_dummies(df.gender)],axis=1)\n",
    "    df = pd.concat([df, pd.get_dummies(df.profession)], axis=1)\n",
    "    df.drop([\"gender\",\"profession\"],axis=1, inplace=True)\n",
    "    return df "
   ]
  },
  {
   "cell_type": "code",
   "execution_count": 101,
   "metadata": {
    "execution": {
     "iopub.execute_input": "2022-02-13T17:12:27.317800Z",
     "iopub.status.busy": "2022-02-13T17:12:27.317465Z",
     "iopub.status.idle": "2022-02-13T17:12:27.371941Z",
     "shell.execute_reply": "2022-02-13T17:12:27.370961Z",
     "shell.execute_reply.started": "2022-02-13T17:12:27.317769Z"
    }
   },
   "outputs": [],
   "source": [
    "df_train = featureEng(df_train)\n",
    "df_test = featureEng(df_test)"
   ]
  },
  {
   "cell_type": "code",
   "execution_count": 102,
   "metadata": {
    "execution": {
     "iopub.execute_input": "2022-02-13T17:12:27.373307Z",
     "iopub.status.busy": "2022-02-13T17:12:27.373088Z",
     "iopub.status.idle": "2022-02-13T17:12:27.378963Z",
     "shell.execute_reply": "2022-02-13T17:12:27.378178Z",
     "shell.execute_reply.started": "2022-02-13T17:12:27.373277Z"
    }
   },
   "outputs": [],
   "source": [
    "df_train.columns"
   ]
  },
  {
   "cell_type": "code",
   "execution_count": 103,
   "metadata": {
    "execution": {
     "iopub.execute_input": "2022-02-13T17:12:27.380676Z",
     "iopub.status.busy": "2022-02-13T17:12:27.379842Z",
     "iopub.status.idle": "2022-02-13T17:12:27.533648Z",
     "shell.execute_reply": "2022-02-13T17:12:27.532582Z",
     "shell.execute_reply.started": "2022-02-13T17:12:27.380635Z"
    }
   },
   "outputs": [],
   "source": [
    "sns.boxplot(df_train.engagement_score)"
   ]
  },
  {
   "cell_type": "code",
   "execution_count": 104,
   "metadata": {
    "execution": {
     "iopub.execute_input": "2022-02-13T17:12:27.535666Z",
     "iopub.status.busy": "2022-02-13T17:12:27.535091Z",
     "iopub.status.idle": "2022-02-13T17:12:27.558374Z",
     "shell.execute_reply": "2022-02-13T17:12:27.557332Z",
     "shell.execute_reply.started": "2022-02-13T17:12:27.535617Z"
    }
   },
   "outputs": [],
   "source": [
    "df_test"
   ]
  },
  {
   "cell_type": "code",
   "execution_count": 105,
   "metadata": {
    "execution": {
     "iopub.execute_input": "2022-02-13T17:12:27.560808Z",
     "iopub.status.busy": "2022-02-13T17:12:27.559783Z",
     "iopub.status.idle": "2022-02-13T17:12:27.580446Z",
     "shell.execute_reply": "2022-02-13T17:12:27.579568Z",
     "shell.execute_reply.started": "2022-02-13T17:12:27.560772Z"
    }
   },
   "outputs": [],
   "source": [
    "df_train"
   ]
  },
  {
   "cell_type": "code",
   "execution_count": 106,
   "metadata": {
    "execution": {
     "iopub.execute_input": "2022-02-13T17:12:27.582004Z",
     "iopub.status.busy": "2022-02-13T17:12:27.581780Z",
     "iopub.status.idle": "2022-02-13T17:12:27.586027Z",
     "shell.execute_reply": "2022-02-13T17:12:27.585086Z",
     "shell.execute_reply.started": "2022-02-13T17:12:27.581975Z"
    }
   },
   "outputs": [],
   "source": [
    "from sklearn.model_selection import train_test_split"
   ]
  },
  {
   "cell_type": "code",
   "execution_count": 213,
   "metadata": {
    "execution": {
     "iopub.execute_input": "2022-02-13T17:20:39.429739Z",
     "iopub.status.busy": "2022-02-13T17:20:39.429245Z",
     "iopub.status.idle": "2022-02-13T17:20:39.439391Z",
     "shell.execute_reply": "2022-02-13T17:20:39.438586Z",
     "shell.execute_reply.started": "2022-02-13T17:20:39.429689Z"
    }
   },
   "outputs": [],
   "source": [
    "#X=df_train.drop([\"row_id\",\"engagement_score\",\"video_id\",\"views\",\"followers\"],axis=1)\n",
    "X=df_train.drop([\"row_id\",\"engagement_score\",\"video_id\",\"followers\",\"views\"],axis=1)\n",
    "\n",
    "\n",
    "Y=df_train[\"engagement_score\"]\n",
    "\n",
    "X_validate = df_test.drop([\"row_id\",\"followers\",\"video_id\",\"views\"],axis=1)\n",
    "#\"Other\",\"Student\",\"Working Professional\""
   ]
  },
  {
   "cell_type": "code",
   "execution_count": null,
   "metadata": {},
   "outputs": [],
   "source": []
  },
  {
   "cell_type": "code",
   "execution_count": 214,
   "metadata": {
    "execution": {
     "iopub.execute_input": "2022-02-13T17:20:40.365947Z",
     "iopub.status.busy": "2022-02-13T17:20:40.365103Z",
     "iopub.status.idle": "2022-02-13T17:20:40.370333Z",
     "shell.execute_reply": "2022-02-13T17:20:40.369312Z",
     "shell.execute_reply.started": "2022-02-13T17:20:40.365902Z"
    }
   },
   "outputs": [],
   "source": [
    "#from sklearn.decomposition import PCA \n",
    "#pca = PCA(n_components=8)\n",
    "#X_new = pca.fit_transform(X)\n",
    "#X_validate_new = pca.fit_transform(X_validate)"
   ]
  },
  {
   "cell_type": "code",
   "execution_count": 215,
   "metadata": {
    "execution": {
     "iopub.execute_input": "2022-02-13T17:20:40.635334Z",
     "iopub.status.busy": "2022-02-13T17:20:40.634612Z",
     "iopub.status.idle": "2022-02-13T17:20:40.639157Z",
     "shell.execute_reply": "2022-02-13T17:20:40.638142Z",
     "shell.execute_reply.started": "2022-02-13T17:20:40.635298Z"
    }
   },
   "outputs": [],
   "source": [
    "#from sklearn.preprocessing import PolynomialFeatures\n",
    "#poly = PolynomialFeatures(degree=2)\n",
    "#X_ = poly.fit_transform(X)\n",
    "#predict_ = poly.fit_transform(predict)\n",
    "#X_validate_ = poly.fit_transform(X_validate)\n"
   ]
  },
  {
   "cell_type": "code",
   "execution_count": 216,
   "metadata": {
    "execution": {
     "iopub.execute_input": "2022-02-13T17:20:40.829498Z",
     "iopub.status.busy": "2022-02-13T17:20:40.829168Z",
     "iopub.status.idle": "2022-02-13T17:20:40.848578Z",
     "shell.execute_reply": "2022-02-13T17:20:40.847838Z",
     "shell.execute_reply.started": "2022-02-13T17:20:40.829463Z"
    }
   },
   "outputs": [],
   "source": [
    "X_train, X_test, Y_train, Y_test = train_test_split(X,Y,test_size=0.001, random_state=42)"
   ]
  },
  {
   "cell_type": "markdown",
   "metadata": {},
   "source": [
    "## Make 40 cluster of data "
   ]
  },
  {
   "cell_type": "code",
   "execution_count": 217,
   "metadata": {
    "execution": {
     "iopub.execute_input": "2022-02-13T17:20:41.210669Z",
     "iopub.status.busy": "2022-02-13T17:20:41.210331Z",
     "iopub.status.idle": "2022-02-13T17:20:41.214798Z",
     "shell.execute_reply": "2022-02-13T17:20:41.213826Z",
     "shell.execute_reply.started": "2022-02-13T17:20:41.210626Z"
    }
   },
   "outputs": [],
   "source": [
    "#from sklearn.cluster import KMeans\n",
    "#cluster_ = KMeans(n_clusters=700)\n",
    "#cluster_.fit(X_train)"
   ]
  },
  {
   "cell_type": "code",
   "execution_count": 218,
   "metadata": {
    "execution": {
     "iopub.execute_input": "2022-02-13T17:20:41.398984Z",
     "iopub.status.busy": "2022-02-13T17:20:41.398365Z",
     "iopub.status.idle": "2022-02-13T17:20:41.402858Z",
     "shell.execute_reply": "2022-02-13T17:20:41.401922Z",
     "shell.execute_reply.started": "2022-02-13T17:20:41.398932Z"
    }
   },
   "outputs": [],
   "source": [
    "#cluster_.labels_.shape"
   ]
  },
  {
   "cell_type": "code",
   "execution_count": 219,
   "metadata": {
    "execution": {
     "iopub.execute_input": "2022-02-13T17:20:41.579174Z",
     "iopub.status.busy": "2022-02-13T17:20:41.578735Z",
     "iopub.status.idle": "2022-02-13T17:20:41.582536Z",
     "shell.execute_reply": "2022-02-13T17:20:41.581854Z",
     "shell.execute_reply.started": "2022-02-13T17:20:41.579142Z"
    }
   },
   "outputs": [],
   "source": [
    "#X_train[\"cluster\"] = cluster_.predict(X_train)\n",
    "#X_test[\"cluster\"] = cluster_.predict(X_test)\n",
    "#X_validate[\"cluster\"] = cluster_.predict(X_validate)"
   ]
  },
  {
   "cell_type": "markdown",
   "metadata": {},
   "source": [
    "## DNN"
   ]
  },
  {
   "cell_type": "code",
   "execution_count": 220,
   "metadata": {
    "execution": {
     "iopub.execute_input": "2022-02-13T17:20:41.972674Z",
     "iopub.status.busy": "2022-02-13T17:20:41.972109Z",
     "iopub.status.idle": "2022-02-13T17:20:41.981412Z",
     "shell.execute_reply": "2022-02-13T17:20:41.980281Z",
     "shell.execute_reply.started": "2022-02-13T17:20:41.972638Z"
    }
   },
   "outputs": [],
   "source": [
    "'''\n",
    "from keras.callbacks import ModelCheckpoint\n",
    "from keras.models import Sequential\n",
    "from keras.layers import Dense, Activation, Flatten, Dropout\n",
    "from sklearn.model_selection import train_test_split\n",
    "from sklearn.ensemble import RandomForestRegressor\n",
    "from sklearn.metrics import mean_absolute_error \n",
    "from matplotlib import pyplot as plt\n",
    "import seaborn as sb\n",
    "import matplotlib.pyplot as plt\n",
    "import pandas as pd\n",
    "import numpy as np\n",
    "NN_model = Sequential()\n",
    "\n",
    "# The Input Layer :\n",
    "NN_model.add(Dense(128, kernel_initializer='normal',input_dim = X_train.shape[1], activation='relu'))\n",
    "# The Hidden Layers :\n",
    "#NN_model.add(Dense(1256, kernel_initializer='normal',activation='relu'))\n",
    "#NN_model.add(Dense(1256, kernel_initializer='normal',activation='relu'))\n",
    "NN_model.add(Dense(256, kernel_initializer='normal',activation='relu'))\n",
    "NN_model.add(Dense(256, kernel_initializer='normal',activation='relu'))\n",
    "NN_model.add(Dense(256, kernel_initializer='normal',activation='relu'))\n",
    "#NN_model.add(Dropout(0.2))\n",
    "NN_model.add(Dense(256, kernel_initializer='normal',activation='relu'))\n",
    "#NN_model.add(Dropout(0.2))\n",
    "NN_model.add(Dense(256, kernel_initializer='normal',activation='relu'))\n",
    "# The Output Layer :\n",
    "NN_model.add(Dense(1, kernel_initializer='normal',activation='linear'))\n",
    "# Compile the network :\n",
    "NN_model.compile(loss='mean_absolute_error', optimizer='adam', metrics=['mean_absolute_error'])\n",
    "NN_model.summary()\n",
    "\n",
    "checkpoint_name = 'Weights-{epoch:03d}--{val_loss:.5f}.hdf5' \n",
    "checkpoint = ModelCheckpoint(checkpoint_name, monitor='val_loss', verbose = 1, save_best_only = True, mode ='auto')\n",
    "callbacks_list = [checkpoint]\n",
    "NN_model.fit(X_train, Y_train, epochs=20, batch_size=32, validation_split = 0.2, callbacks=callbacks_list)\n",
    "#Weights-042--0.52548.hdf5\n",
    "# Load wights file of the best model :\n",
    "wights_file = 'Weights-016--0.56368.hdf5' # choose the best checkpoint \n",
    "NN_model.load_weights(wights_file) # load it\n",
    "NN_model.compile(loss='mean_absolute_error', optimizer='adam', metrics=['mean_absolute_error'])\n",
    "predictions = NN_model.predict(X_test)\n",
    "'''"
   ]
  },
  {
   "cell_type": "code",
   "execution_count": 221,
   "metadata": {
    "execution": {
     "iopub.execute_input": "2022-02-13T17:20:42.143218Z",
     "iopub.status.busy": "2022-02-13T17:20:42.142923Z",
     "iopub.status.idle": "2022-02-13T17:20:42.147878Z",
     "shell.execute_reply": "2022-02-13T17:20:42.146799Z",
     "shell.execute_reply.started": "2022-02-13T17:20:42.143186Z"
    }
   },
   "outputs": [],
   "source": [
    "#cor = X.corr()\n",
    "#plt.figure(figsize=(12,6))\n",
    "#sns.heatmap(cor,cmap='Set1',annot=True)\n"
   ]
  },
  {
   "cell_type": "code",
   "execution_count": 222,
   "metadata": {
    "execution": {
     "iopub.execute_input": "2022-02-13T17:20:42.338071Z",
     "iopub.status.busy": "2022-02-13T17:20:42.337173Z",
     "iopub.status.idle": "2022-02-13T17:21:12.068110Z",
     "shell.execute_reply": "2022-02-13T17:21:12.066980Z",
     "shell.execute_reply.started": "2022-02-13T17:20:42.338033Z"
    }
   },
   "outputs": [],
   "source": [
    "'''from sklearn import linear_model\n",
    "\n",
    "from sklearn.model_selection import StratifiedKFold\n",
    "from sklearn.metrics import accuracy_score\n",
    "y_pred, y_prob, scores = [], [], []\n",
    "\n",
    "N_SPLITS = 10\n",
    "SEED=1\n",
    "folds = StratifiedKFold(n_splits=N_SPLITS, shuffle=True, random_state=SEED)\n",
    "for fold, (train_id, valid_id) in enumerate(folds.split(X, Y)):\n",
    "    X_train, y_train = X.iloc[train_id], Y.iloc[train_id]\n",
    "    X_valid, y_valid  = X.iloc[valid_id], Y.iloc[valid_id]\n",
    "    #regr = linear_model.LinearRegression()\n",
    "    #res = regr.fit(X_train,Y_train)\n",
    "'''\n",
    "\n",
    "\n",
    "\n",
    "\n",
    "\n",
    "#from sklearn import linear_model\n",
    "#regr = linear_model.LinearRegression()\n",
    "#res = regr.fit(X_train,Y_train)\n",
    "\n",
    "#from sklearn.ensemble import ExtraTreesRegressor\n",
    "#regr=ExtraTreesRegressor(n_jobs=-1,\n",
    "#                        n_estimators=10)\n",
    "\n",
    "from sklearn.ensemble import RandomForestRegressor \n",
    "regr1 = RandomForestRegressor(n_jobs=-1,\n",
    "                             n_estimators=350,\n",
    "                             random_state=43,\n",
    "                             #max_depth=12,\n",
    "                             #min_samples_leaf=10\n",
    "                            #oob_score=True\n",
    "                            )\n",
    "\n",
    "res1 = regr1.fit(X_train,Y_train)\n",
    "\n",
    "#import xgboost\n",
    "#regr2 = xgboost.XGBRegressor(n_estimators=400,\n",
    "#                           max_depth=5,\n",
    "#                           n_jobs=-1)\n",
    "\n",
    "#res2 = regr2.fit(X_train,Y_train)\n",
    "\n",
    "\n",
    "#from sklearn import linear_model\n",
    "#regr = linear_model.Lasso(alpha=1.2,warm_start=True)\n",
    "#res2 = regr2.fit(X_train,Y_train)\n"
   ]
  },
  {
   "cell_type": "code",
   "execution_count": 223,
   "metadata": {
    "execution": {
     "iopub.execute_input": "2022-02-13T17:21:12.070653Z",
     "iopub.status.busy": "2022-02-13T17:21:12.070381Z",
     "iopub.status.idle": "2022-02-13T17:21:12.074248Z",
     "shell.execute_reply": "2022-02-13T17:21:12.073500Z",
     "shell.execute_reply.started": "2022-02-13T17:21:12.070620Z"
    }
   },
   "outputs": [],
   "source": [
    "#res.feature_importances_\n",
    "#import matplotlib.pyplot as plt \n",
    "#plt.barh(X_train.columns, res.feature_importances_)"
   ]
  },
  {
   "cell_type": "code",
   "execution_count": 224,
   "metadata": {
    "execution": {
     "iopub.execute_input": "2022-02-13T17:21:12.076452Z",
     "iopub.status.busy": "2022-02-13T17:21:12.075179Z",
     "iopub.status.idle": "2022-02-13T17:21:12.088887Z",
     "shell.execute_reply": "2022-02-13T17:21:12.087889Z",
     "shell.execute_reply.started": "2022-02-13T17:21:12.076411Z"
    }
   },
   "outputs": [],
   "source": [
    "from sklearn.metrics import r2_score\n",
    "def getscore(y_t, y_p):\n",
    "    return (r2_score(y_t, y_p))\n",
    "\n",
    "\n"
   ]
  },
  {
   "cell_type": "code",
   "execution_count": 225,
   "metadata": {
    "execution": {
     "iopub.execute_input": "2022-02-13T17:21:12.091250Z",
     "iopub.status.busy": "2022-02-13T17:21:12.090984Z",
     "iopub.status.idle": "2022-02-13T17:21:12.103357Z",
     "shell.execute_reply": "2022-02-13T17:21:12.102087Z",
     "shell.execute_reply.started": "2022-02-13T17:21:12.091202Z"
    }
   },
   "outputs": [],
   "source": [
    "'''Y_forecast = NN_model.predict(X_validate)\n",
    "Y_train_pred=NN_model.predict(X_train)\n",
    "print (\"train score:, \",getscore(Y_train,Y_train_pred))\n",
    "print (\"test score:, \",getscore(Y_test,predictions))\n",
    "'''\n"
   ]
  },
  {
   "cell_type": "code",
   "execution_count": 226,
   "metadata": {
    "execution": {
     "iopub.execute_input": "2022-02-13T17:21:12.104965Z",
     "iopub.status.busy": "2022-02-13T17:21:12.104719Z",
     "iopub.status.idle": "2022-02-13T17:21:16.146369Z",
     "shell.execute_reply": "2022-02-13T17:21:16.145352Z",
     "shell.execute_reply.started": "2022-02-13T17:21:12.104934Z"
    }
   },
   "outputs": [],
   "source": [
    "#Y_train_pred=res2.predict(X_train)\n",
    "#Y_pred = res2.predict(X_test)\n",
    "\n",
    "Y_train_pred1=res1.predict(X_train)\n",
    "\n",
    "Y_pred1 = res1.predict(X_test)\n",
    "\n",
    "\n",
    "print (\"train score:, \",getscore(Y_train,Y_train_pred1))\n",
    "print (\"test score:, \",getscore(Y_test,Y_pred1))"
   ]
  },
  {
   "cell_type": "code",
   "execution_count": 227,
   "metadata": {
    "execution": {
     "iopub.execute_input": "2022-02-13T17:21:16.148448Z",
     "iopub.status.busy": "2022-02-13T17:21:16.148079Z",
     "iopub.status.idle": "2022-02-13T17:21:16.153814Z",
     "shell.execute_reply": "2022-02-13T17:21:16.152742Z",
     "shell.execute_reply.started": "2022-02-13T17:21:16.148400Z"
    }
   },
   "outputs": [],
   "source": [
    "#tmp=(Y_train_pred1+Y_train_pred)/2"
   ]
  },
  {
   "cell_type": "code",
   "execution_count": 228,
   "metadata": {
    "execution": {
     "iopub.execute_input": "2022-02-13T17:21:16.155454Z",
     "iopub.status.busy": "2022-02-13T17:21:16.155219Z",
     "iopub.status.idle": "2022-02-13T17:21:17.797923Z",
     "shell.execute_reply": "2022-02-13T17:21:17.796590Z",
     "shell.execute_reply.started": "2022-02-13T17:21:16.155425Z"
    }
   },
   "outputs": [],
   "source": [
    "sns.histplot((Y_train_pred1-Y_train))\n",
    "(Y_train_pred1-Y_train).mean(), (Y_train_pred1-Y_train).var()"
   ]
  },
  {
   "cell_type": "code",
   "execution_count": 229,
   "metadata": {
    "execution": {
     "iopub.execute_input": "2022-02-13T17:21:17.800942Z",
     "iopub.status.busy": "2022-02-13T17:21:17.800342Z",
     "iopub.status.idle": "2022-02-13T17:21:18.113022Z",
     "shell.execute_reply": "2022-02-13T17:21:18.112026Z",
     "shell.execute_reply.started": "2022-02-13T17:21:17.800891Z"
    }
   },
   "outputs": [],
   "source": [
    "sns.histplot((Y_pred1-Y_test))\n",
    "\n"
   ]
  },
  {
   "cell_type": "code",
   "execution_count": 230,
   "metadata": {
    "execution": {
     "iopub.execute_input": "2022-02-13T17:21:18.114961Z",
     "iopub.status.busy": "2022-02-13T17:21:18.114612Z",
     "iopub.status.idle": "2022-02-13T17:21:19.130761Z",
     "shell.execute_reply": "2022-02-13T17:21:19.129809Z",
     "shell.execute_reply.started": "2022-02-13T17:21:18.114927Z"
    }
   },
   "outputs": [],
   "source": [
    "Y_forecast = res1.predict(X_validate)\n",
    "\n",
    "\n",
    "#Y_forecast = regr.predict(X_validate_new)"
   ]
  },
  {
   "cell_type": "code",
   "execution_count": 231,
   "metadata": {
    "execution": {
     "iopub.execute_input": "2022-02-13T17:21:19.135307Z",
     "iopub.status.busy": "2022-02-13T17:21:19.134981Z",
     "iopub.status.idle": "2022-02-13T17:21:19.144662Z",
     "shell.execute_reply": "2022-02-13T17:21:19.143612Z",
     "shell.execute_reply.started": "2022-02-13T17:21:19.135261Z"
    }
   },
   "outputs": [],
   "source": [
    "df_new = X_test\n",
    "df_new[\"y_residual\"] = (Y_pred1-Y_test)\n"
   ]
  },
  {
   "cell_type": "code",
   "execution_count": 232,
   "metadata": {
    "execution": {
     "iopub.execute_input": "2022-02-13T17:21:19.146884Z",
     "iopub.status.busy": "2022-02-13T17:21:19.146595Z",
     "iopub.status.idle": "2022-02-13T17:21:19.170020Z",
     "shell.execute_reply": "2022-02-13T17:21:19.168805Z",
     "shell.execute_reply.started": "2022-02-13T17:21:19.146837Z"
    }
   },
   "outputs": [],
   "source": [
    "((df_new[(df_new.y_residual>2.2)]))"
   ]
  },
  {
   "cell_type": "code",
   "execution_count": 233,
   "metadata": {
    "execution": {
     "iopub.execute_input": "2022-02-13T17:21:19.172565Z",
     "iopub.status.busy": "2022-02-13T17:21:19.172092Z",
     "iopub.status.idle": "2022-02-13T17:21:19.182645Z",
     "shell.execute_reply": "2022-02-13T17:21:19.181610Z",
     "shell.execute_reply.started": "2022-02-13T17:21:19.172495Z"
    }
   },
   "outputs": [],
   "source": [
    "Y_forecast"
   ]
  },
  {
   "cell_type": "code",
   "execution_count": 234,
   "metadata": {
    "execution": {
     "iopub.execute_input": "2022-02-13T17:21:19.186705Z",
     "iopub.status.busy": "2022-02-13T17:21:19.184062Z",
     "iopub.status.idle": "2022-02-13T17:21:19.202208Z",
     "shell.execute_reply": "2022-02-13T17:21:19.201264Z",
     "shell.execute_reply.started": "2022-02-13T17:21:19.186665Z"
    }
   },
   "outputs": [],
   "source": [
    "df_sub = pd.read_csv(\"../input/avjobathon/sample_submission_JPlpRcN.csv\")"
   ]
  },
  {
   "cell_type": "code",
   "execution_count": 235,
   "metadata": {
    "execution": {
     "iopub.execute_input": "2022-02-13T17:21:19.205858Z",
     "iopub.status.busy": "2022-02-13T17:21:19.205462Z",
     "iopub.status.idle": "2022-02-13T17:21:19.211730Z",
     "shell.execute_reply": "2022-02-13T17:21:19.210728Z",
     "shell.execute_reply.started": "2022-02-13T17:21:19.205823Z"
    }
   },
   "outputs": [],
   "source": [
    "df_sub [\"engagement_score\"]  = Y_forecast"
   ]
  },
  {
   "cell_type": "code",
   "execution_count": 236,
   "metadata": {
    "execution": {
     "iopub.execute_input": "2022-02-13T17:21:19.213655Z",
     "iopub.status.busy": "2022-02-13T17:21:19.213318Z",
     "iopub.status.idle": "2022-02-13T17:21:19.277544Z",
     "shell.execute_reply": "2022-02-13T17:21:19.276319Z",
     "shell.execute_reply.started": "2022-02-13T17:21:19.213623Z"
    }
   },
   "outputs": [],
   "source": [
    "df_sub.to_csv(\"submission.csv\",index=False)"
   ]
  },
  {
   "cell_type": "code",
   "execution_count": 237,
   "metadata": {
    "execution": {
     "iopub.execute_input": "2022-02-13T17:21:19.279600Z",
     "iopub.status.busy": "2022-02-13T17:21:19.279283Z",
     "iopub.status.idle": "2022-02-13T17:21:20.260939Z",
     "shell.execute_reply": "2022-02-13T17:21:20.259172Z",
     "shell.execute_reply.started": "2022-02-13T17:21:19.279564Z"
    }
   },
   "outputs": [],
   "source": [
    "!tail submission.csv"
   ]
  },
  {
   "cell_type": "code",
   "execution_count": null,
   "metadata": {},
   "outputs": [],
   "source": []
  },
  {
   "cell_type": "code",
   "execution_count": null,
   "metadata": {},
   "outputs": [],
   "source": []
  },
  {
   "cell_type": "code",
   "execution_count": null,
   "metadata": {},
   "outputs": [],
   "source": []
  },
  {
   "cell_type": "code",
   "execution_count": null,
   "metadata": {},
   "outputs": [],
   "source": []
  },
  {
   "cell_type": "code",
   "execution_count": null,
   "metadata": {},
   "outputs": [],
   "source": []
  },
  {
   "cell_type": "code",
   "execution_count": null,
   "metadata": {},
   "outputs": [],
   "source": []
  }
 ],
 "metadata": {
  "kernelspec": {
   "display_name": "Python 3",
   "language": "python",
   "name": "python3"
  },
  "language_info": {
   "codemirror_mode": {
    "name": "ipython",
    "version": 3
   },
   "file_extension": ".py",
   "mimetype": "text/x-python",
   "name": "python",
   "nbconvert_exporter": "python",
   "pygments_lexer": "ipython3",
   "version": "3.8.8"
  }
 },
 "nbformat": 4,
 "nbformat_minor": 4
}
